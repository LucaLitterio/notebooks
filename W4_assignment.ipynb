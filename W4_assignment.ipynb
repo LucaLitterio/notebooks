{
    "cells": [
        {
            "metadata": {
                "collapsed": true
            },
            "cell_type": "markdown",
            "source": "# My Jupyter Notebook on IBM Watson Studio"
        },
        {
            "metadata": {},
            "cell_type": "markdown",
            "source": "**Luca Litterio**\n\nSpace Engineer"
        },
        {
            "metadata": {},
            "cell_type": "markdown",
            "source": "*I am interested about the space industry, in particular the space launchers and satellites, because it is an expanding market which is undergoing a large and fast transformation process, mainly driven by the presence of new competitors and the need of a drammatic reduction of production costs. In this context, I believe that Data Science will have a key role in driving the transformation of the sector.*"
        },
        {
            "metadata": {},
            "cell_type": "markdown",
            "source": "### Cell 5 is a mathematical operation test which performs the sum \"3+2\" and return the value 5."
        },
        {
            "metadata": {},
            "cell_type": "code",
            "source": "2 + 3",
            "execution_count": 2,
            "outputs": [
                {
                    "output_type": "execute_result",
                    "execution_count": 2,
                    "data": {
                        "text/plain": "5"
                    },
                    "metadata": {}
                }
            ]
        },
        {
            "metadata": {},
            "cell_type": "markdown",
            "source": "Results:\n\n---\n\n*Lorem ipsum dolor sit amet, consectetur adipiscing elit, sed do eiusmod tempor incididunt ut labore et dolore magna aliqua. Ut enim ad minim veniam, quis nostrud exercitation ullamco laboris nisi ut aliquip ex ea commodo consequat. Duis aute irure dolor in reprehenderit in voluptate velit esse cillum dolore eu fugiat nulla pariatur. Excepteur sint occaecat cupidatat non proident, sunt in culpa qui officia deserunt mollit anim id est laborum.*\n\n---\n\nCurabitur pretium tincidunt lacus. Nulla gravida orci a odio. Nullam varius, turpis et commodo pharetra, est eros bibendum elit, nec luctus magna felis sollicitudin mauris. Integer in mauris eu nibh euismod gravida. Duis ac tellus et risus vulputate vehicula. Donec lobortis risus a elit. \n\n1. agna nisl\n1. mollis quis\n  * officia deserunt\n  * mollit anim\n1. molestie eu\n1. feugiat in\n\nEtiam tempor. Ut ullamcorper, ligula eu tempor congue, eros est euismod turpis, id tincidunt sapien risus a quam. Maecenas fermentum consequat mi. Donec fermentum. Pellentesque malesuada nulla a mi. Duis sapien sem, aliquet nec, commodo eget, consequat quis, neque. Aliquam faucibus, elit ut dictum aliquet, felis nisl adipiscing sapien, sed malesuada diam lacus eget erat. Cras mollis scelerisque nunc. Nullam arcu. Aliquam consequat. Curabitur augue lorem, dapibus quis, laoreet et, pretium ac, nisi. Aenean magna nisl, mollis quis, molestie eu, feugiat in, orci. In hac habitasse platea dictumst.\n\n| **A**           |  **B**       | **C**      |\n| --------------- | ------------ | ---------- |\n| Etiam tempor    | Commodo      | Nisi       |\n| Tincidunt lacus | Pellentesque | Felis nisl |\n| Nullam varius   | Sed          | Fermentum  |\n\n---\n\nCode:\n```\nprint(\"Hello, World!\")\n```\n\n---\n\n*Coursera assignment*\n\nInfo:\n[Coursera](https://www.coursera.org/)\n\n![alt text](https://d3njjcbhbojbot.cloudfront.net/api/utilities/v1/imageproxy/https://coursera.s3.amazonaws.com/media/coursera-logo-square.png?auto=format%2Ccompress&dpr=1\")\n\n"
        },
        {
            "metadata": {},
            "cell_type": "code",
            "source": "",
            "execution_count": null,
            "outputs": []
        }
    ],
    "metadata": {
        "kernelspec": {
            "name": "python3",
            "display_name": "Python 3.6",
            "language": "python"
        },
        "language_info": {
            "name": "python",
            "version": "3.6.9",
            "mimetype": "text/x-python",
            "codemirror_mode": {
                "name": "ipython",
                "version": 3
            },
            "pygments_lexer": "ipython3",
            "nbconvert_exporter": "python",
            "file_extension": ".py"
        }
    },
    "nbformat": 4,
    "nbformat_minor": 1
}